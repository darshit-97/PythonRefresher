{
  "nbformat": 4,
  "nbformat_minor": 0,
  "metadata": {
    "colab": {
      "provenance": [],
      "authorship_tag": "ABX9TyMFdD4WVQyYk8XEl6yyTSNs",
      "include_colab_link": true
    },
    "kernelspec": {
      "name": "python3",
      "display_name": "Python 3"
    },
    "language_info": {
      "name": "python"
    }
  },
  "cells": [
    {
      "cell_type": "markdown",
      "metadata": {
        "id": "view-in-github",
        "colab_type": "text"
      },
      "source": [
        "<a href=\"https://colab.research.google.com/github/darshit-97/PythonRefresher/blob/main/Python_with_Cybersecurity.ipynb\" target=\"_parent\"><img src=\"https://colab.research.google.com/assets/colab-badge.svg\" alt=\"Open In Colab\"/></a>"
      ]
    },
    {
      "cell_type": "code",
      "execution_count": 1,
      "metadata": {
        "colab": {
          "base_uri": "https://localhost:8080/"
        },
        "id": "YmpuXR2Gs-Gk",
        "outputId": "c0db0704-4f6b-45ab-8be4-e3da5c530f6f"
      },
      "outputs": [
        {
          "output_type": "stream",
          "name": "stdout",
          "text": [
            "Welcome to Python for Cybersecurity!\n"
          ]
        }
      ],
      "source": [
        "print(\"Welcome to Python for Cybersecurity!\")"
      ]
    },
    {
      "cell_type": "markdown",
      "source": [
        "## Variables, Data Types & Operators"
      ],
      "metadata": {
        "id": "WSyDptLgti6p"
      }
    },
    {
      "cell_type": "markdown",
      "source": [
        "**Variables & Data Types**\n",
        "\n",
        "Python has the following basic data types:\n",
        "\n",
        "int (integer)\n",
        "\n",
        "float (decimal numbers)\n",
        "\n",
        "str (text)\n",
        "\n",
        "bool (True/False)\n",
        "\n",
        "list (multiple values in a sequence)\n",
        "\n",
        "dict (key-value pairs)"
      ],
      "metadata": {
        "id": "IdrBSgveuO1V"
      }
    },
    {
      "cell_type": "code",
      "source": [
        "username = \"admin\"  # String (text)\n",
        "login_attempts = 3  # Integer (whole number)\n",
        "is_authenticated = False  # Boolean (True/False)\n",
        "ip_addresses = [\"192.168.1.1\", \"10.0.0.1\"]  # List (multiple values)\n",
        "user_details = {\"username\": \"admin\", \"role\": \"superuser\"}  # Dictionary (key-value pair)\n",
        "\n",
        "print(user_details[\"username\"])  # Output: admin"
      ],
      "metadata": {
        "id": "DL79W8eRtOb-"
      },
      "execution_count": null,
      "outputs": []
    },
    {
      "cell_type": "code",
      "source": [
        "print(type(25))       # int\n",
        "print(type(3.14))     # float\n",
        "print(type(\"Python\")) # str\n",
        "print(type(True))     # bool\n",
        "print(type([\"192.168.1.1\", \"10.0.0.1\"]))  # list\n",
        "print(type({\"user\": \"admin\", \"role\": \"superuser\"}))  # dict"
      ],
      "metadata": {
        "colab": {
          "base_uri": "https://localhost:8080/"
        },
        "id": "G_miggoK8SbT",
        "outputId": "757003bc-7d6c-405a-f596-4c53bd9466fc"
      },
      "execution_count": 17,
      "outputs": [
        {
          "output_type": "stream",
          "name": "stdout",
          "text": [
            "<class 'int'>\n",
            "<class 'float'>\n",
            "<class 'str'>\n",
            "<class 'bool'>\n",
            "<class 'list'>\n",
            "<class 'dict'>\n"
          ]
        }
      ]
    },
    {
      "cell_type": "markdown",
      "source": [
        "**Operators**\n",
        "\n",
        "Arithmetic Operators\n",
        "+ +(addition), -(subtraction), *(multiplication), /(division), %(modulus), **(exponent)\n",
        "\n",
        "Comparison Operators (Useful for Security Checks)\n",
        "+ == (equal), != (not equal), > (greater than), < (less than), >=, <=\n",
        "\n",
        "Logical Operators (and, or, not)"
      ],
      "metadata": {
        "id": "2ZHOK310v4Vo"
      }
    },
    {
      "cell_type": "markdown",
      "source": [
        "**Use Case in Cybersecurity:**\n",
        "\n",
        "+ % Modulo can check even/odd log entries (e.g., IP addresses).\n",
        "\n",
        "+ ** Exponent can be used in hash calculations (e.g., cryptographic keys).\n",
        "\n",
        "+ Compare password hashes to verify login authentication.\n",
        "\n",
        "+ Check failed login attempts exceeding a threshold.\n",
        "\n",
        "+ Lock an account if login attempts exceed 3.\n",
        "\n",
        "+ Block IP addresses with repeated failed logins."
      ],
      "metadata": {
        "id": "uwwZeGKB9Afi"
      }
    },
    {
      "cell_type": "code",
      "source": [
        "a = 10\n",
        "b = 3\n",
        "\n",
        "print(\"Addition:\", a + b)\n",
        "print(\"Subtraction:\", a - b)\n",
        "print(\"Multiplication:\", a * b)\n",
        "print(\"Division:\", a / b)\n",
        "print(\"Modulo:\", a % b)\n",
        "print(\"Exponent:\", a ** b)"
      ],
      "metadata": {
        "colab": {
          "base_uri": "https://localhost:8080/"
        },
        "id": "qefll-Lv80v9",
        "outputId": "9eb8ab66-9ba3-4e38-bff1-b7f6b61ce309"
      },
      "execution_count": 18,
      "outputs": [
        {
          "output_type": "stream",
          "name": "stdout",
          "text": [
            "Addition: 13\n",
            "Subtraction: 7\n",
            "Multiplication: 30\n",
            "Division: 3.3333333333333335\n",
            "Modulo: 1\n",
            "Exponent: 1000\n"
          ]
        }
      ]
    },
    {
      "cell_type": "code",
      "source": [
        "print(10 == 10)   # True\n",
        "print(10 != 5)    # True\n",
        "print(15 > 5)     # True\n",
        "print(8 < 3)      # False\n",
        "print(7 >= 7)     # True\n",
        "print(9 <= 10)    # True"
      ],
      "metadata": {
        "colab": {
          "base_uri": "https://localhost:8080/"
        },
        "id": "y7rVTR-29abd",
        "outputId": "a281b9b1-da16-497a-ac3f-fff972948d5c"
      },
      "execution_count": 19,
      "outputs": [
        {
          "output_type": "stream",
          "name": "stdout",
          "text": [
            "True\n",
            "True\n",
            "True\n",
            "False\n",
            "True\n",
            "True\n"
          ]
        }
      ]
    },
    {
      "cell_type": "code",
      "source": [
        "max_attempts = 5\n",
        "failed_attempts = 3\n",
        "remaining_attempts = max_attempts - failed_attempts\n",
        "print(\"remaining login attempts:\",remaining_attempts)"
      ],
      "metadata": {
        "colab": {
          "base_uri": "https://localhost:8080/"
        },
        "id": "LrXtK6_JxaYH",
        "outputId": "02329105-ca0d-4a38-9fac-d96b9bcd2620"
      },
      "execution_count": 5,
      "outputs": [
        {
          "output_type": "stream",
          "name": "stdout",
          "text": [
            "remaining login attempts: 2\n"
          ]
        }
      ]
    },
    {
      "cell_type": "code",
      "source": [
        "failed_attempts = 5\n",
        "if failed_attempts > 3:\n",
        "  print(\"Warning: Possible brute-force attack detected!\")"
      ],
      "metadata": {
        "colab": {
          "base_uri": "https://localhost:8080/"
        },
        "id": "1bvNzPaNx7Wd",
        "outputId": "e14b62de-1e68-4591-a37e-1d4934fd3b00"
      },
      "execution_count": 7,
      "outputs": [
        {
          "output_type": "stream",
          "name": "stdout",
          "text": [
            "Warning: Possible brute-force attack detected!\n"
          ]
        }
      ]
    },
    {
      "cell_type": "code",
      "source": [
        "is_admin = True\n",
        "is_logged_in = False\n",
        "\n",
        "if is_admin and is_logged_in:\n",
        "  print(\"Access Granted\")\n",
        "else:\n",
        "  print(\"Access Denied\")"
      ],
      "metadata": {
        "colab": {
          "base_uri": "https://localhost:8080/"
        },
        "id": "zKGfCFDcyTs2",
        "outputId": "d7a802d5-9687-4a8a-ce0a-69119e1ebd1c"
      },
      "execution_count": 8,
      "outputs": [
        {
          "output_type": "stream",
          "name": "stdout",
          "text": [
            "Access Denied\n"
          ]
        }
      ]
    },
    {
      "cell_type": "markdown",
      "source": [
        "**Use Case: Storing Failed Login Attempts**\n",
        "\n",
        "simulating a log monitoring script to store failed login attempts using variables."
      ],
      "metadata": {
        "id": "4TfwvKci9vbx"
      }
    },
    {
      "cell_type": "code",
      "source": [
        "failed_logins = 0\n",
        "\n",
        "failed_logins += 1\n",
        "failed_logins += 1\n",
        "failed_logins += 1\n",
        "\n",
        "print(\"Total Failed Login attempts:\",failed_logins)\n",
        "\n",
        "if failed_logins > 3:\n",
        "  print(\"Account Locked due to security measures\")\n",
        "else:\n",
        "  print(\"You have more attempts left\")"
      ],
      "metadata": {
        "colab": {
          "base_uri": "https://localhost:8080/"
        },
        "id": "YInHFT29-Dxl",
        "outputId": "3ab36e56-d53e-42cb-e7ea-47869cb909d8"
      },
      "execution_count": 20,
      "outputs": [
        {
          "output_type": "stream",
          "name": "stdout",
          "text": [
            "Total Failed Login attempts: 3\n",
            "You have more attempts left\n"
          ]
        }
      ]
    },
    {
      "cell_type": "markdown",
      "source": [
        "## Control Flow (if-else, loops - for, while)"
      ],
      "metadata": {
        "id": "wwH7M4a9z0Em"
      }
    },
    {
      "cell_type": "code",
      "source": [
        "failed_logins = 2\n",
        "if failed_logins >= 5:\n",
        "    print(\"Alert! Possible brute-force attack detected.\")\n",
        "else:\n",
        "    print(\"Normal login behavior.\")"
      ],
      "metadata": {
        "colab": {
          "base_uri": "https://localhost:8080/"
        },
        "id": "ptq6VUUv0RlE",
        "outputId": "b9d88602-fea7-4060-e538-60ac6aefe695"
      },
      "execution_count": 16,
      "outputs": [
        {
          "output_type": "stream",
          "name": "stdout",
          "text": [
            "Normal login behavior.\n"
          ]
        }
      ]
    },
    {
      "cell_type": "code",
      "source": [
        "threat_level = 75  # Example threat score\n",
        "\n",
        "if threat_level > 90:\n",
        "    print(\"CRITICAL THREAT! Immediate Action Required.\")\n",
        "elif threat_level > 50:\n",
        "    print(\"Medium Threat Detected.\")\n",
        "else:\n",
        "    print(\"System Secure.\")"
      ],
      "metadata": {
        "colab": {
          "base_uri": "https://localhost:8080/"
        },
        "id": "wWbhpeyPDHDR",
        "outputId": "02e3762a-e6f1-44b9-f6b9-b387b90bb313"
      },
      "execution_count": 27,
      "outputs": [
        {
          "output_type": "stream",
          "name": "stdout",
          "text": [
            "Medium Threat Detected.\n"
          ]
        }
      ]
    },
    {
      "cell_type": "code",
      "source": [
        "suspicious_ips = [\"192.168.1.10\", \"10.0.0.5\", \"172.16.0.8\"]\n",
        "\n",
        "for ip in suspicious_ips:\n",
        "    print(f\"Suspicious Activity Detected from {ip}\")"
      ],
      "metadata": {
        "colab": {
          "base_uri": "https://localhost:8080/"
        },
        "id": "NYD2gtmuDTOT",
        "outputId": "f31b1ead-2966-4675-9278-e59e4e7027aa"
      },
      "execution_count": 28,
      "outputs": [
        {
          "output_type": "stream",
          "name": "stdout",
          "text": [
            "Suspicious Activity Detected from 192.168.1.10\n",
            "Suspicious Activity Detected from 10.0.0.5\n",
            "Suspicious Activity Detected from 172.16.0.8\n"
          ]
        }
      ]
    },
    {
      "cell_type": "code",
      "source": [
        "attempts = 0\n",
        "max_attempts = 5\n",
        "\n",
        "while attempts < max_attempts:\n",
        "    print(f\"Brute Force Attempt {attempts + 1} Detected!\")\n",
        "    attempts += 1  # Increase attempt count\n",
        "\n",
        "print(\"🔒 System Locked Due to Excessive Attempts!\")"
      ],
      "metadata": {
        "colab": {
          "base_uri": "https://localhost:8080/"
        },
        "id": "QFa2tMX0DbtM",
        "outputId": "8f64c0ca-817f-4ffd-9bd9-ef39d440cf48"
      },
      "execution_count": 29,
      "outputs": [
        {
          "output_type": "stream",
          "name": "stdout",
          "text": [
            "Brute Force Attempt 1 Detected!\n",
            "Brute Force Attempt 2 Detected!\n",
            "Brute Force Attempt 3 Detected!\n",
            "Brute Force Attempt 4 Detected!\n",
            "Brute Force Attempt 5 Detected!\n",
            "🔒 System Locked Due to Excessive Attempts!\n"
          ]
        }
      ]
    },
    {
      "cell_type": "markdown",
      "source": [
        "## File Handeling"
      ],
      "metadata": {
        "id": "Xm_qplQ_Fd9y"
      }
    },
    {
      "cell_type": "code",
      "source": [
        "with open(\"security_log.txt\", \"w\") as file:  # \"w\" mode creates/overwrites a file\n",
        "    file.write(\"User admin logged in successfully\\n\")\n",
        "    file.write(\"Failed login attempt from IP: 192.168.1.100\\n\")\n",
        "    file.write(\"Failed login attempt from IP: 10.0.0.5\\n\")\n",
        "    file.write(\"User root logged out\\n\")\n",
        "\n",
        "print(\"Sample log file created.\")"
      ],
      "metadata": {
        "colab": {
          "base_uri": "https://localhost:8080/"
        },
        "id": "Qm19oIK3GQRJ",
        "outputId": "9bca36de-10f5-49ab-956c-c4f156590af3"
      },
      "execution_count": 30,
      "outputs": [
        {
          "output_type": "stream",
          "name": "stdout",
          "text": [
            "Sample log file created.\n"
          ]
        }
      ]
    },
    {
      "cell_type": "markdown",
      "source": [
        "**Reading a File (open() method)**"
      ],
      "metadata": {
        "id": "yc-ijpDEFkqK"
      }
    },
    {
      "cell_type": "code",
      "source": [
        "with open(\"security_log.txt\", \"r\") as file:\n",
        "    for line in file:\n",
        "        print(line.strip())  # Remove extra newlines"
      ],
      "metadata": {
        "colab": {
          "base_uri": "https://localhost:8080/"
        },
        "id": "qpXam2C-Frx1",
        "outputId": "07b9ac00-e81b-4353-ed8b-c2e761890347"
      },
      "execution_count": 31,
      "outputs": [
        {
          "output_type": "stream",
          "name": "stdout",
          "text": [
            "User admin logged in successfully\n",
            "Failed login attempt from IP: 192.168.1.100\n",
            "Failed login attempt from IP: 10.0.0.5\n",
            "User root logged out\n"
          ]
        }
      ]
    },
    {
      "cell_type": "markdown",
      "source": [
        "**Writing to a Log File**"
      ],
      "metadata": {
        "id": "XxovhRVXGj7_"
      }
    },
    {
      "cell_type": "code",
      "source": [
        "with open(\"failed_attempts.log\", \"a\") as file:  # \"a\" creates the file if it doesn't exist\n",
        "    file.write(\"Unauthorized login attempt detected!\\n\")\n",
        "\n",
        "print(\"Log updated. (File created if it didn’t exist)\")"
      ],
      "metadata": {
        "colab": {
          "base_uri": "https://localhost:8080/"
        },
        "id": "rNCTuA64GjoP",
        "outputId": "b5d18025-a326-4014-cd2c-27628382590b"
      },
      "execution_count": 32,
      "outputs": [
        {
          "output_type": "stream",
          "name": "stdout",
          "text": [
            "Log updated. (File created if it didn’t exist)\n"
          ]
        }
      ]
    },
    {
      "cell_type": "markdown",
      "source": [
        "**Searching for Specific Text in a Log File**"
      ],
      "metadata": {
        "id": "JgeyDAqWMBMo"
      }
    },
    {
      "cell_type": "code",
      "source": [
        "with open(\"security_log.txt\", \"r\") as file:\n",
        "    for line in file:\n",
        "        if \"Failed login\" in line:\n",
        "            print(line.strip())  # Show only failed login attempts"
      ],
      "metadata": {
        "colab": {
          "base_uri": "https://localhost:8080/"
        },
        "id": "-aocWc1VMDUh",
        "outputId": "a1406b8b-c9b4-4374-b1ba-95125f8696e7"
      },
      "execution_count": 33,
      "outputs": [
        {
          "output_type": "stream",
          "name": "stdout",
          "text": [
            "Failed login attempt from IP: 192.168.1.100\n",
            "Failed login attempt from IP: 10.0.0.5\n"
          ]
        }
      ]
    },
    {
      "cell_type": "markdown",
      "source": [
        "# Exercise"
      ],
      "metadata": {
        "id": "_boDmnhmt3gM"
      }
    },
    {
      "cell_type": "markdown",
      "source": [
        "### Create a Python script that:\n",
        "+ Takes user input for a password.\n",
        "+ Checks if the password is \"admin123\".\n",
        "+ If correct, prints \"Access Granted!\".\n",
        "+ If incorrect, prints \"Access Denied!\"."
      ],
      "metadata": {
        "id": "fQj4LCcqzBkN"
      }
    },
    {
      "cell_type": "code",
      "source": [
        "print(\"Password:\")\n",
        "password=input()\n",
        "if password == \"admin123\":\n",
        "  print(\"Access Granted\")\n",
        "else:\n",
        "  print(\"Access Denied\")"
      ],
      "metadata": {
        "colab": {
          "base_uri": "https://localhost:8080/"
        },
        "id": "26fP0vSouByk",
        "outputId": "1a4cef84-512a-4a14-b4c6-81c168500310"
      },
      "execution_count": 22,
      "outputs": [
        {
          "output_type": "stream",
          "name": "stdout",
          "text": [
            "Password:\n",
            "admiN123\n",
            "Access Denied\n"
          ]
        }
      ]
    },
    {
      "cell_type": "markdown",
      "source": [
        "**Optimization & Security Considerations**\n",
        "\n",
        "Here are some improvements for better security and efficiency:\n",
        "\n",
        "+ Hide Password Input (So it's not visible when typed)\n",
        "+ Make Password Case-Insensitive (lower() function)\n",
        "+ Use getpass Module (More Secure for Real Applications)"
      ],
      "metadata": {
        "id": "f8e2am8tAhGd"
      }
    },
    {
      "cell_type": "code",
      "source": [
        "import getpass\n",
        "\n",
        "password = getpass.getpass(\"Enter Password: \")\n",
        "\n",
        "if password == \"admin123\":\n",
        "  print(\"Access Granted\")\n",
        "else:\n",
        "  print(\"Access Denied\")"
      ],
      "metadata": {
        "colab": {
          "base_uri": "https://localhost:8080/"
        },
        "id": "CNBbS7-pAuYG",
        "outputId": "c43d1364-7a4d-44ab-e1a7-870868ffa264"
      },
      "execution_count": 24,
      "outputs": [
        {
          "output_type": "stream",
          "name": "stdout",
          "text": [
            "Enter Password: ··········\n",
            "Access Denied\n"
          ]
        }
      ]
    },
    {
      "cell_type": "markdown",
      "source": [
        "**Added attempt limit**"
      ],
      "metadata": {
        "id": "_veQILeTCO3G"
      }
    },
    {
      "cell_type": "code",
      "source": [
        "import getpass  # Hides password input\n",
        "\n",
        "correct_password = \"admin123\"\n",
        "max_attempts = 3  # Limit login attempts\n",
        "attempts = 0\n",
        "\n",
        "while attempts < max_attempts:\n",
        "    password = getpass.getpass(\"Enter Password: \")\n",
        "\n",
        "    if password == correct_password:\n",
        "        print(\"Access Granted\")\n",
        "        break  # Exit loop on success\n",
        "    else:\n",
        "        attempts += 1\n",
        "        print(f\"Access Denied! Attempts left: {max_attempts - attempts}\")\n",
        "\n",
        "# Lock user out after max attempts\n",
        "if attempts == max_attempts:\n",
        "    print(\"Too many failed attempts! Account locked.\")\n"
      ],
      "metadata": {
        "colab": {
          "base_uri": "https://localhost:8080/"
        },
        "id": "urV39fmPCTRu",
        "outputId": "f0a06b38-f2ad-47bc-ac20-7c256663c44e"
      },
      "execution_count": 26,
      "outputs": [
        {
          "output_type": "stream",
          "name": "stdout",
          "text": [
            "Enter Password: ··········\n",
            "Access Denied! Attempts left: 2\n",
            "Enter Password: ··········\n",
            "Access Denied! Attempts left: 1\n",
            "Enter Password: ··········\n",
            "Access Denied! Attempts left: 0\n",
            "Too many failed attempts! Account locked.\n"
          ]
        }
      ]
    },
    {
      "cell_type": "markdown",
      "source": [
        "### Write a Python script that scans the log file (security_log.txt)\n",
        "+ Print only lines that contain the IP 192.168.1.100"
      ],
      "metadata": {
        "id": "bZ0zlvTbzNrD"
      }
    },
    {
      "cell_type": "code",
      "source": [
        "with open(\"security_log.txt\", \"r\") as file:\n",
        "    for line in file:\n",
        "        if \"192.168.1.100\" in line:\n",
        "            print(line.strip())"
      ],
      "metadata": {
        "colab": {
          "base_uri": "https://localhost:8080/"
        },
        "id": "ddYxOxf-2VhI",
        "outputId": "5203c3e7-7328-45c8-a0e5-a03c6c09eebe"
      },
      "execution_count": 34,
      "outputs": [
        {
          "output_type": "stream",
          "name": "stdout",
          "text": [
            "Failed login attempt from IP: 192.168.1.100\n"
          ]
        }
      ]
    },
    {
      "cell_type": "code",
      "source": [],
      "metadata": {
        "id": "TNb6rGEmMjb6"
      },
      "execution_count": null,
      "outputs": []
    }
  ]
}