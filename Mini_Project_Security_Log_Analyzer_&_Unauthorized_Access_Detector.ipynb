{
  "nbformat": 4,
  "nbformat_minor": 0,
  "metadata": {
    "colab": {
      "provenance": [],
      "authorship_tag": "ABX9TyOLEnikkFDhsCLfA5PPCUgw",
      "include_colab_link": true
    },
    "kernelspec": {
      "name": "python3",
      "display_name": "Python 3"
    },
    "language_info": {
      "name": "python"
    }
  },
  "cells": [
    {
      "cell_type": "markdown",
      "metadata": {
        "id": "view-in-github",
        "colab_type": "text"
      },
      "source": [
        "<a href=\"https://colab.research.google.com/github/darshit-97/PythonRefresher/blob/main/Mini_Project_Security_Log_Analyzer_%26_Unauthorized_Access_Detector.ipynb\" target=\"_parent\"><img src=\"https://colab.research.google.com/assets/colab-badge.svg\" alt=\"Open In Colab\"/></a>"
      ]
    },
    {
      "cell_type": "markdown",
      "source": [
        "# Security Log Analyzer & Unauthorized Access Detector"
      ],
      "metadata": {
        "id": "nZ43DKtKkZW0"
      }
    },
    {
      "cell_type": "markdown",
      "source": [
        "**Objective:**\n",
        "\n",
        "Build a Python script that:\n",
        "+ Reads a security log file (security_log.txt).\n",
        "+ Identifies unauthorized login attempts.\n",
        "+ Writes a detailed report of suspicious activity to alert_report.txt.\n",
        "+ Uses functions, loops, file handling, and error handling"
      ],
      "metadata": {
        "id": "W8jd8Qj-ksZ7"
      }
    },
    {
      "cell_type": "markdown",
      "source": [
        "**Project Requirements:**\n",
        "+ Read a log file (security_log.txt) containing login attempts.\n",
        "+ Detect unauthorized login attempts (e.g., incorrect passwords, multiple failed attempts).\n",
        "+ Log suspicious activity into a report (alert_report.txt).\n",
        "+ Handle missing files (try-except for error handling).\n",
        "+ Allow users to manually enter an IP to check if it appears in the log."
      ],
      "metadata": {
        "id": "e-oGET9NlBzi"
      }
    },
    {
      "cell_type": "markdown",
      "source": [
        "**Features Your Script Must Include:**\n",
        "+ Open security_log.txt and read its contents.\n",
        "+ Find all FAILED login attempts and extract IPs.\n",
        "+ Write the suspicious IPs and corresponding failed attempts to alert_report.txt.\n",
        "+ Ask the user for an IP and check if it appears in the log.\n",
        "+ Use functions for better structure.\n",
        "+ Handle file errors gracefully.\n",
        "\n",
        "**Bonus (Optional):**\n",
        "+ Track how many unique IPs had failed attempts.\n",
        "+ Allow users to search logs for a specific username/IP."
      ],
      "metadata": {
        "id": "lwrUY76am-Tc"
      }
    },
    {
      "cell_type": "code",
      "execution_count": 12,
      "metadata": {
        "colab": {
          "base_uri": "https://localhost:8080/"
        },
        "id": "hVv-9IuUkLN8",
        "outputId": "7b70a4c8-ff8b-4c60-b21e-7e9252183a9c"
      },
      "outputs": [
        {
          "output_type": "stream",
          "name": "stdout",
          "text": [
            "Error report written to alert_report.txt\n",
            "Enter an IP or username to search for: guest\n",
            "Searching for 'guest'...\n",
            "2024-03-31 10:08:45 - FAILED - User: guest - IP: 10.0.0.5\n",
            "\n",
            "Unique Suspicious IP: 2\n",
            "Enter an IP or username to search for: 192.168.1.10\n",
            "Searching for '192.168.1.10'...\n",
            "2024-03-31 10:00:12 - SUCCESS - User: admin - IP: 192.168.1.10\n",
            "2024-03-31 10:05:23 - FAILED - User: root - IP: 192.168.1.100\n",
            "2024-03-31 10:15:10 - FAILED - User: admin - IP: 192.168.1.100\n"
          ]
        }
      ],
      "source": [
        "from re import search\n",
        "from ast import keyword\n",
        "from itertools import count\n",
        "def read_log(security_log_file):\n",
        "  try:\n",
        "    with open(security_log_file,\"r\") as file:\n",
        "      return file.readlines()\n",
        "  except FileNotFoundError:\n",
        "    print(f\"Error: '{security_log_file}' not found!\")\n",
        "    return[]\n",
        "\n",
        "def check_failed_attempts(log_lines):\n",
        "  failed_attempts={}\n",
        "  for line in log_lines:\n",
        "    if \"FAILED\" in line:\n",
        "      try:\n",
        "        parts=line.strip().split(\" - \")\n",
        "        user=parts[2].split(\": \")[1]\n",
        "        ip=parts[3].split(\": \")[1]\n",
        "        if ip not in failed_attempts:\n",
        "          failed_attempts[ip]={'count':1,'users':set([user])}\n",
        "        else:\n",
        "          failed_attempts[ip]['count'] += 1\n",
        "          failed_attempts[ip]['users'].add(user)\n",
        "      except IndexError:\n",
        "        print(\"Error: Invalid log format!\")\n",
        "  return failed_attempts\n",
        "\n",
        "def write_error_report(failed_attempts,output_file):\n",
        "  with open(output_file,\"w\") as file:\n",
        "    file.write(\"Security Alert Report\\n\")\n",
        "    file.write(\"---------------------\\n\\n\")\n",
        "    for ip,details in failed_attempts.items():\n",
        "      file.write(f\"Suspicious IP detected: {ip}\\n\")\n",
        "      file.write(f\"Failed attempts: {details['count']}\\n\")\n",
        "      file.write(f\"Users involved: {', '.join(details['users'])}\\n\")\n",
        "      file.write(\"---------------------\\n\\n\")\n",
        "    print(f\"Error report written to {output_file}\")\n",
        "\n",
        "def search_ip_or_user(log_lines):\n",
        "  keyword=input(f\"Enter an IP or username to search for: \").strip()\n",
        "  print(f\"Searching for '{keyword}'...\")\n",
        "  found=False\n",
        "  for line in log_lines:\n",
        "    if keyword in line:\n",
        "      print(line.strip())\n",
        "      found=True\n",
        "  if not found:\n",
        "    print(f\"No results found for '{keyword}'\")\n",
        "\n",
        "def main():\n",
        "  security_log_file=\"security_log.txt\"\n",
        "  output_file=\"alert_report.txt\"\n",
        "\n",
        "  log_lines=read_log(security_log_file)\n",
        "  if not log_lines:\n",
        "    return\n",
        "\n",
        "  failed_attempts=check_failed_attempts(log_lines)\n",
        "\n",
        "  write_error_report(failed_attempts,output_file)\n",
        "\n",
        "  search_ip_or_user(log_lines)\n",
        "\n",
        "  print(f\"\\nUnique Suspicious IP: {len(failed_attempts)}\")\n",
        "\n",
        "  search_ip_or_user(log_lines)\n",
        "\n",
        "if __name__ == \"__main__\":\n",
        "  main()"
      ]
    },
    {
      "cell_type": "code",
      "source": [],
      "metadata": {
        "id": "xC7YaJ011lA3"
      },
      "execution_count": null,
      "outputs": []
    }
  ]
}