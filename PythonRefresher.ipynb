{
  "nbformat": 4,
  "nbformat_minor": 0,
  "metadata": {
    "colab": {
      "provenance": [],
      "authorship_tag": "ABX9TyNf4dU6mDhkS3ZTs0kFVBQm",
      "include_colab_link": true
    },
    "kernelspec": {
      "name": "python3",
      "display_name": "Python 3"
    },
    "language_info": {
      "name": "python"
    }
  },
  "cells": [
    {
      "cell_type": "markdown",
      "metadata": {
        "id": "view-in-github",
        "colab_type": "text"
      },
      "source": [
        "<a href=\"https://colab.research.google.com/github/darshit-97/PythonRefresher/blob/main/PythonRefresher.ipynb\" target=\"_parent\"><img src=\"https://colab.research.google.com/assets/colab-badge.svg\" alt=\"Open In Colab\"/></a>"
      ]
    },
    {
      "cell_type": "code",
      "execution_count": null,
      "metadata": {
        "collapsed": true,
        "id": "LKddqoLxKKDC"
      },
      "outputs": [],
      "source": [
        "print (\"Hello, this is a Python Refresher Course.\")"
      ]
    },
    {
      "cell_type": "markdown",
      "source": [
        "**Data Types**\n",
        "\n",
        "**Different datatypes like Integer, float, string, list, tuples, dictionary,and sets**"
      ],
      "metadata": {
        "id": "BFPouoU0ZQ9R"
      }
    },
    {
      "cell_type": "code",
      "source": [
        "#Numbers\n",
        "x=10 # Integer\n",
        "y=3.14 # Float\n",
        "\n",
        "#Strings\n",
        "name=\"Cipher\"\n",
        "\n",
        "#Lists (Mutable)\n",
        "numbers=[1,2,3,4,5,3]\n",
        "\n",
        "#Tuples (Immutable)\n",
        "coordinates=(10,20)\n",
        "\n",
        "#Dictionaries (Key-Value Pairs)\n",
        "person={\"Name\":\"Cipher\", \"Age\":25}\n",
        "\n",
        "#Sets (Unique Values)\n",
        "unique_numbers={1,2,3,4}\n",
        "\n",
        "print(type(x), type(y), type(name), type(numbers), type(coordinates), type(person),type(unique_numbers))"
      ],
      "metadata": {
        "collapsed": true,
        "id": "GYJHNzWqL7QW"
      },
      "execution_count": null,
      "outputs": []
    },
    {
      "cell_type": "markdown",
      "source": [
        "**Control Flow**\n",
        "\n",
        "**If-Else, Loops**"
      ],
      "metadata": {
        "id": "NK9NkpQbZn9Z"
      }
    },
    {
      "cell_type": "code",
      "source": [
        "# If-Else Statement\n",
        "\n",
        "age=20\n",
        "if age>=18:\n",
        "  print(\"You are an Adult\")\n",
        "else:\n",
        "  print(\"You are a Minor\")\n",
        "\n",
        "# For Loop\n",
        "\n",
        "for i in range(5):\n",
        "  print(i)\n",
        "\n",
        "# While Loop\n",
        "\n",
        "count=0\n",
        "while count < 5:\n",
        "  print(count)\n",
        "  count += 1"
      ],
      "metadata": {
        "id": "Eahwvp8mOw7B"
      },
      "execution_count": null,
      "outputs": []
    },
    {
      "cell_type": "markdown",
      "source": [
        "**Functions (Lambda, Map, Filter)**\n",
        "\n",
        "**Function is a reusable block of code that performs specific tasks**\n",
        "\n",
        "**Lambda Function:**\n",
        "a small, one line function without a name (also called anonymous function)\n",
        "\n",
        "**When to Use Lambda Functions?**\n",
        "\n",
        "When you need a quick one-time function without defining a full function using def.\n",
        "\n",
        "Used inside map(), filter(), and sorted() functions.\n",
        "Syntax: lambda arguments: expression\n",
        "\n",
        "**Map Function:**\n",
        "map() applies a function to each element of list array (or any iterable)\n",
        "\n",
        "**Why Use map()?**\n",
        "\n",
        "Faster than using a for loop.\n",
        "\n",
        "More readable for simple transformations.\n",
        "\n",
        "**Filter Function:**\n",
        "filter() is used to select elements from a list that meets the condition\n",
        "\n",
        "**Why Use filter()?**\n",
        "\n",
        "More efficient than manually looping with an if statement."
      ],
      "metadata": {
        "id": "6ItyWKuIZ58M"
      }
    },
    {
      "cell_type": "code",
      "source": [
        "# Defining a function\n",
        "def add(a,b):\n",
        "  return a+b\n",
        "\n",
        "# calling a function\n",
        "result = add(4,9)\n",
        "print(result)\n",
        "\n",
        "# Lambda Function\n",
        "square=lambda x: x**2\n",
        "print (square(7))\n",
        "\n",
        "# Map Function\n",
        "squared = list(map(lambda x:x**2,unique_numbers))\n",
        "print(squared)\n",
        "\n",
        "# Filter Function\n",
        "evens = list(filter(lambda x:x%2==0,unique_numbers))\n",
        "print(evens)"
      ],
      "metadata": {
        "collapsed": true,
        "id": "GevVSt1oXLTh"
      },
      "execution_count": null,
      "outputs": []
    },
    {
      "cell_type": "markdown",
      "source": [
        "**List and Dictionary Comprehensions**\n",
        "\n",
        "**What is Comprehensions?**\n",
        "\n",
        "Comprehensions provide a short and elegant way to create lists, dictionaries, or sets using loops and conditions in a single line of code.\n",
        "\n",
        "**Why use comprehensions?**\n",
        "\n",
        "More concise & readable than regular loops.\n",
        "\n",
        "Faster execution compared to traditional loops."
      ],
      "metadata": {
        "id": "k4TNWxpxlsAO"
      }
    },
    {
      "cell_type": "code",
      "source": [
        "# LIST COMPREHENSION\n",
        "# Create a List of Squares\n",
        "squares=[x**2 for x in range(1,6)]\n",
        "print(squares)\n",
        "\n",
        "# Filtering even numbers\n",
        "evens=[x for x in range(1,11) if x%2==0]\n",
        "print(evens)\n",
        "\n",
        "#Nested loop in list comprehension\n",
        "pairs=[(x,y)for x in range(1,3)for y in range(4,6)]\n",
        "print(pairs)"
      ],
      "metadata": {
        "id": "7pJD_Muqpxh1"
      },
      "execution_count": null,
      "outputs": []
    },
    {
      "cell_type": "code",
      "source": [
        "# Dictionary comprehension\n",
        "# Create dictionary of squares\n",
        "squareDict={x:x**2 for x in range(1,11)}\n",
        "print(squareDict)\n",
        "\n",
        "# Filtered Dictionary\n",
        "filteredDict={x: y for x, y in squareDict.items() if x%2==0}\n",
        "print(filteredDict)"
      ],
      "metadata": {
        "id": "3Y4iJdh_sFTC"
      },
      "execution_count": null,
      "outputs": []
    },
    {
      "cell_type": "markdown",
      "source": [
        "**File Handeling**"
      ],
      "metadata": {
        "id": "yA3ax0vhzggp"
      }
    },
    {
      "cell_type": "code",
      "source": [
        "# Writing to a file\n",
        "with open(\"test.txt\",\"w\") as file:\n",
        "  file.write(\"Hello, this file was created using Python!\\n\")\n",
        "  file.write(\"Welcome to File Handeling.\\n\")"
      ],
      "metadata": {
        "id": "5A82XFSr0TC8"
      },
      "execution_count": 50,
      "outputs": []
    },
    {
      "cell_type": "code",
      "source": [
        "# Reading from a file (Entire File)\n",
        "with open(\"test.txt\",\"r\") as file:\n",
        "  content=file.read()\n",
        "  print(content)"
      ],
      "metadata": {
        "colab": {
          "base_uri": "https://localhost:8080/"
        },
        "id": "UwurZrxm1tc8",
        "outputId": "fa513732-bfb7-4f8d-b410-116faf4a2abf"
      },
      "execution_count": 52,
      "outputs": [
        {
          "output_type": "stream",
          "name": "stdout",
          "text": [
            "Hello, this file was created using Python!\n",
            "Welcome to File Handeling.\n",
            "\n"
          ]
        }
      ]
    },
    {
      "cell_type": "code",
      "source": [
        "# Reading a file Line by Line\n",
        "with open(\"test.txt\",\"r\") as file:\n",
        "  line1=file.readline()\n",
        "  line2=file.readline()\n",
        "  print(line1,end=\"\")\n",
        "  print(line2,end=\"\")"
      ],
      "metadata": {
        "colab": {
          "base_uri": "https://localhost:8080/"
        },
        "id": "aFLAV5n742V9",
        "outputId": "3ae720d7-eb0e-4056-8a87-a1a8274cab01"
      },
      "execution_count": 55,
      "outputs": [
        {
          "output_type": "stream",
          "name": "stdout",
          "text": [
            "Hello, this file was created using Python!\n",
            "Welcome to File Handeling.\n"
          ]
        }
      ]
    },
    {
      "cell_type": "code",
      "source": [
        "# using readlines()\n",
        "# readlines() returns a list where each item is a line from the file.\n",
        "with open(\"test.txt\",\"r\") as file:\n",
        "  lines=file.readlines()\n",
        "  print(lines)"
      ],
      "metadata": {
        "colab": {
          "base_uri": "https://localhost:8080/"
        },
        "id": "kS6OzgW85q4r",
        "outputId": "68ab94e4-8689-4f8e-fcd8-c56090c12bfe"
      },
      "execution_count": 59,
      "outputs": [
        {
          "output_type": "stream",
          "name": "stdout",
          "text": [
            "['Hello, this file was created using Python!\\n', 'Welcome to File Handeling.\\n', 'This is a new line.\\n']\n"
          ]
        }
      ]
    },
    {
      "cell_type": "code",
      "source": [
        "# Append to a file\n",
        "with open(\"test.txt\",\"a\") as file:\n",
        "  file.write(\"This is a new line.\\n\")"
      ],
      "metadata": {
        "id": "QHCCdbyX6GZa"
      },
      "execution_count": 58,
      "outputs": []
    },
    {
      "cell_type": "code",
      "source": [
        "# Filtering specific lines from a file\n",
        "with open(\"test.txt\",\"r\") as file:\n",
        "  for line in file:\n",
        "    if \"Python\" in line:\n",
        "      print(line,end=\"\")"
      ],
      "metadata": {
        "colab": {
          "base_uri": "https://localhost:8080/"
        },
        "id": "o4f6Yq0_6eL2",
        "outputId": "7bd98cd5-8148-4b00-e833-0eb0296b2f1c"
      },
      "execution_count": 62,
      "outputs": [
        {
          "output_type": "stream",
          "name": "stdout",
          "text": [
            "Hello, this file was created using Python!\n"
          ]
        }
      ]
    },
    {
      "cell_type": "markdown",
      "source": [
        "**Exception Handling**"
      ],
      "metadata": {
        "id": "6gsAEC7rAlLE"
      }
    },
    {
      "cell_type": "code",
      "source": [
        "# Try-Except\n",
        "try:\n",
        "  result=10/0\n",
        "except ZeroDivisionError:\n",
        "  print(\"Error: Cannot divide by Zero!\")"
      ],
      "metadata": {
        "colab": {
          "base_uri": "https://localhost:8080/"
        },
        "id": "t883Cw8tAs-r",
        "outputId": "b8595ac3-cfa3-400a-8ef7-0be0e939d897"
      },
      "execution_count": 77,
      "outputs": [
        {
          "output_type": "stream",
          "name": "stdout",
          "text": [
            "Error: Cannot divide by Zero!\n"
          ]
        }
      ]
    },
    {
      "cell_type": "code",
      "source": [
        "# Multiple Exception\n",
        "try:\n",
        "  num=int(input(\"Enter a Number: \"))\n",
        "  result=num/0\n",
        "except ZeroDivisionError:\n",
        "  print(\"Error: Cannot divide by Zero!\")\n",
        "except ValueError:\n",
        "  print(\"Error: Invalid Input! Please enter a Number.\")"
      ],
      "metadata": {
        "colab": {
          "base_uri": "https://localhost:8080/"
        },
        "id": "oFL2x9ccfYql",
        "outputId": "f34fc23f-a498-4bc4-d1ca-d5e74866851c"
      },
      "execution_count": 81,
      "outputs": [
        {
          "output_type": "stream",
          "name": "stdout",
          "text": [
            "Enter a Number: a\n",
            "Error: Invalid Input! Please enter a Number.\n"
          ]
        }
      ]
    },
    {
      "cell_type": "code",
      "source": [
        "from logging import exception\n",
        "# using Generic Exception\n",
        "try:\n",
        "  x=int(\"Hello\")\n",
        "except Exception as e:\n",
        "  print(\"An error occured!\",e)"
      ],
      "metadata": {
        "colab": {
          "base_uri": "https://localhost:8080/"
        },
        "id": "a2x1tKSngrNX",
        "outputId": "7b9b9b9a-2693-45a5-a1be-b7f0b9ae2a6a"
      },
      "execution_count": 84,
      "outputs": [
        {
          "output_type": "stream",
          "name": "stdout",
          "text": [
            "An error occured! invalid literal for int() with base 10: 'Hello'\n"
          ]
        }
      ]
    },
    {
      "cell_type": "code",
      "source": [
        "# Finally Block (Always Runs)\n",
        "try:\n",
        "  file = open(\"saple.txt\",\"r\")\n",
        "  print(file.read())\n",
        "except FileNotFoundError:\n",
        "  print(\"Error: File Not Found!\")\n",
        "finally:\n",
        "  file.close()\n",
        "  print(\"File Operation Complete\")"
      ],
      "metadata": {
        "colab": {
          "base_uri": "https://localhost:8080/"
        },
        "id": "GXIbQb6Ah-82",
        "outputId": "59c38b86-2211-47a1-8ecd-84c689e8bbab"
      },
      "execution_count": 86,
      "outputs": [
        {
          "output_type": "stream",
          "name": "stdout",
          "text": [
            "Error: File Not Found!\n",
            "File Operation Complete\n"
          ]
        }
      ]
    },
    {
      "cell_type": "markdown",
      "source": [
        "### **Exercise**"
      ],
      "metadata": {
        "id": "LZ0LO9eMSq00"
      }
    },
    {
      "cell_type": "markdown",
      "source": [
        "**Task: Write a loop that prints only even numbers from 1 to 10**"
      ],
      "metadata": {
        "id": "wdBEcBINdtDv"
      }
    },
    {
      "cell_type": "code",
      "source": [
        "# using if statement\n",
        "for i in range(1,11):\n",
        "  if i%2==0:\n",
        "    print(i)"
      ],
      "metadata": {
        "colab": {
          "base_uri": "https://localhost:8080/"
        },
        "collapsed": true,
        "id": "5SL7mTXKQpFy",
        "outputId": "7b2b3492-9668-4ac2-91fa-a79b45909510"
      },
      "execution_count": 66,
      "outputs": [
        {
          "output_type": "stream",
          "name": "stdout",
          "text": [
            "2\n",
            "4\n",
            "6\n",
            "8\n",
            "10\n"
          ]
        }
      ]
    },
    {
      "cell_type": "code",
      "source": [
        "# without using if statement\n",
        "for i in range(2,11,2):\n",
        "  print(i)"
      ],
      "metadata": {
        "colab": {
          "base_uri": "https://localhost:8080/"
        },
        "collapsed": true,
        "id": "P05rSG7sTY7P",
        "outputId": "fba0c117-3981-4ffb-e203-320c0b2efc80"
      },
      "execution_count": 67,
      "outputs": [
        {
          "output_type": "stream",
          "name": "stdout",
          "text": [
            "2\n",
            "4\n",
            "6\n",
            "8\n",
            "10\n"
          ]
        }
      ]
    },
    {
      "cell_type": "markdown",
      "source": [
        "**Task: Write a lambda function that multiplies a number by 3.**"
      ],
      "metadata": {
        "id": "fZTCk3iukgzh"
      }
    },
    {
      "cell_type": "code",
      "source": [
        "# Lambda Function\n",
        "multiply3=lambda x:x*3\n",
        "print(multiply3(82))"
      ],
      "metadata": {
        "colab": {
          "base_uri": "https://localhost:8080/"
        },
        "collapsed": true,
        "id": "5H79b_giUU8K",
        "outputId": "23bc3d89-c842-45fe-e19a-f5c6c109cd09"
      },
      "execution_count": 68,
      "outputs": [
        {
          "output_type": "stream",
          "name": "stdout",
          "text": [
            "246\n"
          ]
        }
      ]
    },
    {
      "cell_type": "code",
      "source": [
        "# Normal Function\n",
        "def multiply_by_3(x):\n",
        "    return x * 3\n",
        "\n",
        "print(multiply_by_3(82))\n"
      ],
      "metadata": {
        "colab": {
          "base_uri": "https://localhost:8080/"
        },
        "collapsed": true,
        "id": "Ro5qkFbZk-CV",
        "outputId": "ee19c3c7-384a-415c-9639-2b9ca2b768a3"
      },
      "execution_count": 69,
      "outputs": [
        {
          "output_type": "stream",
          "name": "stdout",
          "text": [
            "246\n"
          ]
        }
      ]
    },
    {
      "cell_type": "markdown",
      "source": [
        "**Task: Create a list of cubes (x³) for numbers 1 to 5 using list comprehension.**"
      ],
      "metadata": {
        "id": "wz4698e-vIZV"
      }
    },
    {
      "cell_type": "code",
      "source": [
        "cubeList=[x**3 for x in range(1,6)]\n",
        "print(cubeList)"
      ],
      "metadata": {
        "colab": {
          "base_uri": "https://localhost:8080/"
        },
        "collapsed": true,
        "id": "kLyYR1oglUZ1",
        "outputId": "be97d9f5-0e08-47d7-c489-d304b0cb61a8"
      },
      "execution_count": 70,
      "outputs": [
        {
          "output_type": "stream",
          "name": "stdout",
          "text": [
            "[1, 8, 27, 64, 125]\n"
          ]
        }
      ]
    },
    {
      "cell_type": "code",
      "source": [
        "cubeList1=list(map(lambda x:x**3, range(1,6)))\n",
        "print(cubeList1)"
      ],
      "metadata": {
        "colab": {
          "base_uri": "https://localhost:8080/"
        },
        "collapsed": true,
        "id": "A9uGnusSvns3",
        "outputId": "89f9a59f-c162-4de6-a7d2-571ba0d21067"
      },
      "execution_count": 71,
      "outputs": [
        {
          "output_type": "stream",
          "name": "stdout",
          "text": [
            "[1, 8, 27, 64, 125]\n"
          ]
        }
      ]
    },
    {
      "cell_type": "markdown",
      "source": [
        "**Task: Write a Python script to read sample.txt and print only lines containing the word \"Python\"**"
      ],
      "metadata": {
        "id": "0gykm3Kn7NpH"
      }
    },
    {
      "cell_type": "code",
      "source": [
        "# Creating a sample text file\n",
        "with open(\"sample.txt\", \"w\") as file:\n",
        "    file.write(\"Python is great for AI.\\n\")\n",
        "    file.write(\"Machine Learning is the future.\\n\")\n",
        "    file.write(\"I love coding in Python!\\n\")\n",
        "    file.write(\"Data Science and Python go hand in hand.\\n\")\n",
        "    file.write(\"Java is also a powerful language.\\n\")\n"
      ],
      "metadata": {
        "id": "fPx-HVhnwnw-"
      },
      "execution_count": 72,
      "outputs": []
    },
    {
      "cell_type": "code",
      "source": [
        "with open(\"sample.txt\",\"r\") as file:\n",
        "  for line in file:\n",
        "    if \"Python\" in line:\n",
        "      print(line,end=\"\")"
      ],
      "metadata": {
        "colab": {
          "base_uri": "https://localhost:8080/"
        },
        "id": "Hbx2Kcr-7duX",
        "outputId": "b0fd0352-e812-4b4e-a5bd-ebe0f7530714"
      },
      "execution_count": 73,
      "outputs": [
        {
          "output_type": "stream",
          "name": "stdout",
          "text": [
            "Python is great for AI.\n",
            "I love coding in Python!\n",
            "Data Science and Python go hand in hand.\n"
          ]
        }
      ]
    },
    {
      "cell_type": "code",
      "source": [
        "with open(\"sample.txt\",\"r\") as file:\n",
        "  python_lines=[line for line in file if \"Python\" in line]\n",
        "  print(\"\".join(python_lines))"
      ],
      "metadata": {
        "colab": {
          "base_uri": "https://localhost:8080/"
        },
        "id": "u-0otla1796j",
        "outputId": "0c9c9572-c6d6-4a53-e110-123b123a4ac4"
      },
      "execution_count": 74,
      "outputs": [
        {
          "output_type": "stream",
          "name": "stdout",
          "text": [
            "Python is great for AI.\n",
            "I love coding in Python!\n",
            "Data Science and Python go hand in hand.\n",
            "\n"
          ]
        }
      ]
    },
    {
      "cell_type": "markdown",
      "source": [
        "**Task: Write a Python script that attempts to open missing.txt (a non-existent file).**"
      ],
      "metadata": {
        "id": "P7u1WYhWjZPK"
      }
    },
    {
      "cell_type": "code",
      "source": [
        "try:\n",
        "  file = open(\"missing.txt\",\"r\")\n",
        "  print(file.read())\n",
        "except FileNotFoundError:\n",
        "  print(\"Error: File Not Found!\")\n",
        "finally:\n",
        "  file.close()\n",
        "  print(\"File closed\")"
      ],
      "metadata": {
        "colab": {
          "base_uri": "https://localhost:8080/"
        },
        "id": "InB2zqLY83nC",
        "outputId": "61b41a54-9f9d-417d-90bf-558bb3403b9b"
      },
      "execution_count": 88,
      "outputs": [
        {
          "output_type": "stream",
          "name": "stdout",
          "text": [
            "Error: File Not Found!\n",
            "File closed\n"
          ]
        }
      ]
    },
    {
      "cell_type": "code",
      "source": [
        "try:\n",
        "  with open(\"missing.txt\",\"r\") as file:\n",
        "    print(file.read())\n",
        "except FileNotFoundError:\n",
        "  print(\"Error: File Not Found!\")"
      ],
      "metadata": {
        "colab": {
          "base_uri": "https://localhost:8080/"
        },
        "id": "Zi5DcMj6jefO",
        "outputId": "b837323a-4554-47d3-8c8e-5c808bf24901"
      },
      "execution_count": 89,
      "outputs": [
        {
          "output_type": "stream",
          "name": "stdout",
          "text": [
            "Error: File Not Found!\n"
          ]
        }
      ]
    },
    {
      "cell_type": "code",
      "source": [],
      "metadata": {
        "id": "90DnwgeHkGbt"
      },
      "execution_count": null,
      "outputs": []
    }
  ]
}